{
 "cells": [
  {
   "cell_type": "markdown",
   "id": "66f0f642-eab0-482c-a21c-f659c3417223",
   "metadata": {},
   "source": [
    "## an Instance"
   ]
  },
  {
   "cell_type": "code",
   "execution_count": 1,
   "id": "932acc4c-9696-4001-8c63-ae967d11550d",
   "metadata": {},
   "outputs": [
    {
     "name": "stderr",
     "output_type": "stream",
     "text": [
      "/home/jiaoq/.conda/envs/hf/lib/python3.12/site-packages/tqdm/auto.py:21: TqdmWarning: IProgress not found. Please update jupyter and ipywidgets. See https://ipywidgets.readthedocs.io/en/stable/user_install.html\n",
      "  from .autonotebook import tqdm as notebook_tqdm\n"
     ]
    }
   ],
   "source": [
    "model_name = \"BAAI/bge-base-en-v1.5\"\n",
    "model_kwargs = {\"device\": 'cuda:5'}\n",
    "encode_kwargs = {\"normalize_embeddings\": True}\n",
    "from langchain_community.embeddings import HuggingFaceBgeEmbeddings\n",
    "bge_emb = HuggingFaceBgeEmbeddings(\n",
    "    model_name=model_name, model_kwargs=model_kwargs, encode_kwargs=encode_kwargs\n",
    ")"
   ]
  },
  {
   "cell_type": "code",
   "execution_count": 2,
   "id": "75974e79-f1fd-4e97-b92c-d2c2e0c793fe",
   "metadata": {},
   "outputs": [],
   "source": [
    "from jiao_rag import RAG\n",
    "my_rag = RAG(cuda_device='cuda:5')\n",
    "my_rag.load_data_from_file('./data/dataset_courseCtlgProcessed.txt', 'dataset')\n",
    "my_rag.create_dense_vector_index(bge_emb, 'bge_embedding_dataset', 'dataset')\n",
    "my_rag.load_data_from_file('./data/dataset_courseCtlgProcessed.txt', 'dataset_lem', content_key='lemma')\n",
    "my_rag.create_bm25_index('bm25_retriever_dataset', 'dataset_lem')"
   ]
  },
  {
   "cell_type": "code",
   "execution_count": 16,
   "id": "14d74dae-c8de-47f0-8453-1a9ff43162ee",
   "metadata": {},
   "outputs": [
    {
     "name": "stdout",
     "output_type": "stream",
     "text": [
      "[Document(page_content='Here is the csv that describes the required courses for civil engineering: b,Requirements for,CIVIL ENGINEERING,Unnamed: 2,Unnamed: 3,...Catalog Year 2023-2024,Unnamed: 5,\\r\\n0,Student Name:,Insert your name here,,Priority of this major:,,1st or 2nd,\\r\\n1,Course Requirements,,Course Title,Cr\\nHr,Term courses were or\\nwill be taken,Course\\nGrade,whether required for second major\\r\\n2,HSSA Requirements,36 credits,,,,,\\r\\n3,   HSSA #1 - HUM H190,,First-Year Writing Seminar,4 credits,,,required for first major in civil engineering; no information is provided about whether this course is required for second major in civil engineering\\r\\n4,   HSSA #2  ,,Humanities & Arts (H),4 credits,,,required for first major in civil engineering; no information is provided about whether this course is required for second major in civil engineering\\r\\n5,   HSSA #3  ,,Social Sciences (S),4 credits,,,required for first major in civil engineering; no information is provided about whether this course is required for second major in civil engineering\\r\\n6,   HSSA #4  ,,H or S or Language (L),4 credits,,,required for first major in civil engineering; no information is provided about whether this course is required for second major in civil engineering\\r\\n7,   HSSA #5  ,,H or S or L,4 credits,,,required for first major in civil engineering; no information is provided about whether this course is required for second major in civil engineering\\r\\n8,   HSSA #6  ,,H or S or L,4 credits,,,required for first major in civil engineering; no information is provided about whether this course is required for second major in civil engineering\\r\\n9,   HSSA #7  ,,H or S or L,4 credits,,,required for first major in civil engineering; no information is provided about whether this course is required for second major in civil engineering\\r\\n10,   HSSA #8  ,,H or S (cannot be a language),4 credits,,,required for first major in civil engineering; no information is provided about whether this course is required for second major in civil engineering\\r\\n11,   HSSA #9 - ENGL H290,,Tech & Profiessional Communications,4 credits,,,required for first major in civil engineering; no information is provided about whether this course is required for second major in civil engineering\\r\\n12,General Requirements,44 credits,,,,,\\r\\n13,   CHEM 111,,Chemistry I     (Lect@3 + Lab@1),4 credits,,,required for first major in civil engineering; no information is provided about whether this course is required for second major in civil engineering\\r\\n14,   CHEM 113,,Chemistry II    (Lect@3 + Lab@1),4 credits,,,required for first major in civil engineering; no information is provided about whether this course is required for second major in civil engineering\\r\\n15,   RHIT 100,,Foundations for Rose-Hulman Success,1 credits,,,required for first major in civil engineering; no information is provided about whether this course is required for second major in civil engineering\\r\\n16,   MA 111,,Calculus I,5 credits,,,required for first major in civil engineering; no information is provided about whether this course is required for second major in civil engineering\\r\\n17,   MA 112,,Calculus II,5 credits,,,required for first major in civil engineering; no information is provided about whether this course is required for second major in civil engineering\\r\\n18,   MA 113,,Calculus III,5 credits,,,required for first major in civil engineering; no information is provided about whether this course is required for second major in civil engineering\\r\\n19,   MA 221,,Matrix Algebra & Diff Equations I,4 credits,,,required for first major in civil engineering; no information is provided about whether this course is required for second major in civil engineering\\r\\n20,   MA 222,,Matrix Algebra & Diff Equations II,4 credits,,,required for first major in civil engineering; no information is provided about whether this course is required for second major in civil engineering\\r\\n21,   MA 223,,Engineering Statistics I,4 credits,,,required for first major in civil engineering; no information is provided about whether this course is required for second major in civil engineering\\r\\n22,   PH 111,,Physics I,4 credits,,,required for first major in civil engineering; no information is provided about whether this course is required for second major in civil engineering\\r\\n23,   PH 112,,Physics II,4 credits,,,required for first major in civil engineering; no information is provided about whether this course is required for second major in civil engineering\\r\\n24,CE Requirements,90 credits,,,,,\\r\\n25,   CE 101,,Engineering Surveying I,2 credits,,,required for first major in civil engineering; no information is provided about whether this course is required for second major in civil engineering\\r\\n26,   CE 111,,Geographic Information Systems,2 credits,,,required for first major in civil engineering; no information is provided about whether this course is required for second major in civil engineering\\r\\n27,   CE 250,,Sustainable Civil Engineering Design,2 credits,,,required for first major in civil engineering; no information is provided about whether this course is required for second major in civil engineering\\r\\n28,   CE 303,,Engineering Economy,4 credits,,,required for first major in civil engineering; no information is provided about whether this course is required for second major in civil engineering\\r\\n29,   CE 310,,CE Numerial Methods,2 credits,,,required for first major in civil engineering; no information is provided about whether this course is required for second major in civil engineering\\r\\n30,   CE 320,,CE Materials,4 credits,,,required for first major in civil engineering; no information is provided about whether this course is required for second major in civil engineering\\r\\n31,   CE 321,,Structural Mechanics I,4 credits,,,required for first major in civil engineering; no information is provided about whether this course is required for second major in civil engineering\\r\\n32,   CE 336,,Soil Mechanics,4 credits,,,required for first major in civil engineering; no information is provided about whether this course is required for second major in civil engineering\\r\\n33,   CE 371,,Hydraulic Engineering,4 credits,,,required for first major in civil engineering; no information is provided about whether this course is required for second major in civil engineering\\r\\n34,   CE 380,,Intro to Transportation Engineering,4 credits,,,required for first major in civil engineering; no information is provided about whether this course is required for second major in civil engineering\\r\\n35,   CE 400,,Career Prep Seminar,0 credits,,,required for first major in civil engineering; no information is provided about whether this course is required for second major in civil engineering\\r\\n36,   CE 431,,Structural Design in Steel I,3 credits,,,required for first major in civil engineering; no information is provided about whether this course is required for second major in civil engineering\\r\\n37,   CE 432,,Structural Design in Concrete,3 credits,,,required for first major in civil engineering; no information is provided about whether this course is required for second major in civil engineering\\r\\n38,   CE 441,,Construction Engineering,2 credits,,,required for first major in civil engineering; no information is provided about whether this course is required for second major in civil engineering\\r\\n39,   CE 450,,CE Codes & Regulations,4 credits,,,required for first major in civil engineering; no information is provided about whether this course is required for second major in civil engineering\\r\\n40,   CE 460,,Environmental Engineering,4 credits,,,required for first major in civil engineering; no information is provided about whether this course is required for second major in civil engineering\\r\\n41,   CE 461,,Environmental Engineering Lab,2 credits,,,required for first major in civil engineering; no information is provided about whether this course is required for second major in civil engineering\\r\\n42,   CE 471,,Water Resources Engineering,4 credits,,,required for first major in civil engineering; no information is provided about whether this course is required for second major in civil engineering\\r\\n43,   CE 486,,CE Design & Synthesis I,2 credits,,,required for first major in civil engineering; no information is provided about whether this course is required for second major in civil engineering\\r\\n44,   CE 487x,,Technical System Design & Synthesis,2 credits,,,required for first major in civil engineering; no information is provided about whether this course is required for second major in civil engineering\\r\\n45,   CE 488,,CE Design & Synthesis II,2 credits,,,required for first major in civil engineering; no information is provided about whether this course is required for second major in civil engineering\\r\\n46,   CE 489,,CE Design & Synthesis III,2 credits,,,required for first major in civil engineering; no information is provided about whether this course is required for second major in civil engineering\\r\\n47,   CE _________,,CE Elective #1 - CE400 or 500 Level,4 credits,,,required for first major in civil engineering; no information is provided about whether this course is required for second major in civil engineering\\r\\n48,   CE _________,,CE Elective #2 - CE400 or 500 Level,4 credits,,,required for first major in civil engineering; no information is provided about whether this course is required for second major in civil engineering\\r\\n49,   EM 102,,Graphical Comm for Civil Engr,2 credits,,,required for first major in civil engineering; no information is provided about whether this course is required for second major in civil engineering\\r\\n50,   EM 103,,Intro to Design,2 credits,,,required for first major in civil engineering; no information is provided about whether this course is required for second major in civil engineering\\r\\n51,   EM 120,,Engineering Statics,4 credits,,,required for first major in civil engineering; no information is provided about whether this course is required for second major in civil engineering\\r\\n52,   EM 202,,Dynamics,4 credits,,,required for first major in civil engineering; no information is provided about whether this course is required for second major in civil engineering\\r\\n53,   EM 203,,Mechanics of Materials,4 credits,,,required for first major in civil engineering; no information is provided about whether this course is required for second major in civil engineering\\r\\n54,   EM 301,,Fluid Mechanics,4 credits,,,required for first major in civil engineering; no information is provided about whether this course is required for second major in civil engineering\\r\\n55, Two of the following,,CE205, CHE 201, CHE202 or \\nboth ES213 and ES213L,4 credits,,,required for first major in civil engineering; no information is provided about whether this course is required for second major in civil engineering\\r\\n56,   four courses: ,,,4 credits,,,\\r\\n57,Electives,16 credits,,,,,\\r\\n58,,,Science Elective,4 credits,,,required for first major in civil engineering; no information is provided about whether this course is required for second major in civil engineering\\r\\n59,,,Science Elect  (Excluding CHEM,PH),4 credits,,,required for first major in civil engineering; no information is provided about whether this course is required for second major in civil engineering\\r\\n60,,,Technical Elective,4 credits,,,required for first major in civil engineering; no information is provided about whether this course is required for second major in civil engineering\\r\\n61,,,Technical Elective,4 credits,,,required for first major in civil engineering; no information is provided about whether this course is required for second major in civil engineering\\r\\n62,,186 credits, - CE Total Credit Hours Required -,194 credits,,,\\r\\n', metadata={'seq_num': 9, 'source': '/home/jiaoq/rag_proj/data/dataset_courseCtlgProcessed.txt', 'src': 'CIVIL_ENGINEERING.csv'}), 2.326833]\n",
      "\n",
      "[Document(page_content='This information is for first major only, not for second major. Recommended schedule for civil engineering first major in junior year fall, or year 3. Recommended courses for a junior civil engineering student in fall, or a year 3 student.  CE 321 Structural Mechanics I 4 CE 336 Soil Mechanics 4 CE 205 Thermodynamics or CHE 201 Conservation Principles & Balances 4 CE 371 Hydraulic Engineering 4 Total Credits 16 ', metadata={'seq_num': 102, 'source': '/home/jiaoq/rag_proj/data/dataset_courseCtlgProcessed.txt', 'src': 'CivilEngineeringCourseCatalog'}), 0.168659]\n",
      "\n",
      "[Document(page_content='CE 320 - Civil Engineering Materials\\nCredit Hours:4 Term Available: Spring \\nGraduate Studies Eligible: No\\nPrerequisites: None\\nCorequisites: None\\nA study of the origin, nature, performance and selection criteria of various basic materials used in the practice of civil engineering. These include aggregates, portland cement, concrete, and bituminous materials. Emphasis will be placed on standard methods of testing and characterization as related to the mechanical behavior of materials.', metadata={'seq_num': 953, 'source': '/home/jiaoq/rag_proj/data/dataset_courseCtlgProcessed.txt', 'src': 'https://www.rose-hulman.edu/academics/course-catalog/current/programs/Civil%20Engineering/ce-320.html'}), -2.8055732]\n",
      "\n",
      "[Document(page_content='Here is the csv that describes the required courses for mechanical engineering: b,Requirements for,MECHANICAL ENGINEERING,Unnamed: 2,Unnamed: 3,...Catalog Year 2023-2024,Unnamed: 5,whether required for second major,NOTE about Elective course requirements:  When completing a double major or two degree plan of study, it is not necessary to be specific on any Electives unless the class to be taken to fill an elective is required for one of the majors.  This will allow you more flexibility in scheduling and avoid the need to later file a revised plan of study.  If a specific course is listed to fulfill an elective, that specific course must then be taken.\\r\\n0,Student Name:,Insert your name here,,Priority of this major:,,1st or 2nd,,\\r\\n1,Course Requirements,,Course Title,Cr\\nHr,Term courses were or\\nwill be taken,Course\\nGrade,,\\r\\n2,HSSA Requirements,36 credits,,,,,,\\r\\n3,   HSSA #1 - HUM H190,,First-Year Writing Seminar,4 credits,,,required for first major in mechanical engineering; not required for second major in mechanical engineering,\\r\\n4,   HSSA #2  ,,Humanities & Arts (H),4 credits,,,required for first major in mechanical engineering; not required for second major in mechanical engineering,\\r\\n5,   HSSA #3  ,,Social Sciences (S),4 credits,,,required for first major in mechanical engineering; not required for second major in mechanical engineering,\\r\\n6,   HSSA #4  ,,H or S or Language (L),4 credits,,,required for first major in mechanical engineering; not required for second major in mechanical engineering,\\r\\n7,   HSSA #5  ,,H or S or L,4 credits,,,required for first major in mechanical engineering; not required for second major in mechanical engineering,\\r\\n8,   HSSA #6  ,,H or S or L,4 credits,,,required for first major in mechanical engineering; not required for second major in mechanical engineering,\\r\\n9,   HSSA #7  ,,H or S or L,4 credits,,,required for first major in mechanical engineering; not required for second major in mechanical engineering,\\r\\n10,   HSSA #8  ,,H or S (cannot be a language),4 credits,,,required for first major in mechanical engineering; not required for second major in mechanical engineering,\\r\\n11,   HSSA #9 - ENGL H290,,Tech & Profiessional Communications,4 credits,,,required for first major in mechanical engieering; required for second major in mechanical engineering,Must take RH330 (prereq for other required classes)\\r\\n12,General Requirements,44 credits,,,,,,\\r\\n13,   RHIT 100,,Foundations for Rose-Hulman Success,1 credits,,,required for first major in mechanical engieering; required for second major in mechanical engineering,\\r\\n14,   BIO 101,,Essential Biology,4 credits,,,required for first major in mechanical engieering; required for second major in mechanical engineering,\\r\\n15,   CHEM 111,,Chemistry I   (Lect @ 3, Lab @ 1),4 credits,,,required for first major in mechanical engieering; required for second major in mechanical engineering,\\r\\n16,   MA 111,,Calculus I,5 credits,,,required for first major in mechanical engieering; required for second major in mechanical engineering,\\r\\n17,   MA 112,,Calculus II,5 credits,,,required for first major in mechanical engieering; required for second major in mechanical engineering,\\r\\n18,   MA 113,,Calculus III,5 credits,,,required for first major in mechanical engieering; required for second major in mechanical engineering,\\r\\n19,   MA 221,,Matrix Algebra& Diff Equations I,4 credits,,,required for first major in mechanical engieering; required for second major in mechanical engineering,\\r\\n20,   MA 222,,Matrix Algebra& Diff Equations II,4 credits,,,required for first major in mechanical engieering; required for second major in mechanical engineering,\\r\\n21,   MA 223,,Engineering Statistics I,4 credits,,,required for first major in mechanical engieering; required for second major in mechanical engineering,\\r\\n22,   PH 111,,Physics I,4 credits,,,required for first major in mechanical engieering; required for second major in mechanical engineering,\\r\\n23,   PH 112,,Physics II,4 credits,,,required for first major in mechanical engieering; required for second major in mechanical engineering,\\r\\n24,ME Requirements,86 credits,,,,,,\\r\\n25,   EM 103,,Intro to Design,2 credits,,,required for first major in mechanical engieering; required for second major in mechanical engineering,\\r\\n26,   EM 104,,Graphical Communications,2 credits,,,required for first major in mechanical engieering; required for second major in mechanical engineering,\\r\\n27,   EM 121,,Statics & Mechanics of Materials I,4 credits,,,required for first major in mechanical engieering; required for second major in mechanical engineering,\\r\\n28,   EM 204,,Statics & Mechanics of Materials II,4 credits,,,required for first major in mechanical engieering; required for second major in mechanical engineering,\\r\\n29,   ES 201,,Cons & Accounting Principles,4 credits,,,required for first major in mechanical engieering; required for second major in mechanical engineering,\\r\\n30,   ES 205,,Analysis & Design of Engr Systems,4 credits,,,required for first major in mechanical engieering; required for second major in mechanical engineering,\\r\\n31,   ES 212,,Fluid Systems,4 credits,,,required for first major in mechanical engieering; required for second major in mechanical engineering,\\r\\n32,   ES 213 & ES213L,,Electrical Systems (Lec @3, Lab @1),4 credits,,,required for first major in mechanical engieering; required for second major in mechanical engineering,\\r\\n33,   ES 214,,Mechanical Systems,4 credits,,,required for first major in mechanical engieering; required for second major in mechanical engineering,\\r\\n34,   ME 123,,Computer Applications I,4 credits,,,required for first major in mechanical engieering; required for second major in mechanical engineering,\\r\\n35,   ME 301,,Applications of Thermodynamics,4 credits,,,required for first major in mechanical engieering; required for second major in mechanical engineering,\\r\\n36,   ME 302,,Heat Transfer,4 credits,,,required for first major in mechanical engieering; required for second major in mechanical engineering,\\r\\n37,   ME 317,,Design for Manufacturing,4 credits,,,required for first major in mechanical engieering; required for second major in mechanical engineering,\\r\\n38,   ME 321,,Mechanical Measurements,4 credits,,,required for first major in mechanical engieering; required for second major in mechanical engineering,\\r\\n39,   ME 327,,Numerical Methods,4 credits,,,required for first major in mechanical engieering; required for second major in mechanical engineering,\\r\\n40,   ME 328,,Material Engineering,4 credits,,,required for first major in mechanical engieering; required for second major in mechanical engineering,\\r\\n41,   ME 406/EM406,,Control Syst or Vibration Analysis,4 credits,,,required for first major in mechanical engieering; required for second major in mechanical engineering,\\r\\n42,   ME 421,,M.E. Lab,2 credits,,,required for first major in mechanical engieering; required for second major in mechanical engineering,\\r\\n43,   ME 430,,Mechatronic Systems,4 credits,,,required for first major in mechanical engieering; required for second major in mechanical engineering,\\r\\n44,   ME 470,,Capstone Design I,4 credits,,,required for first major in mechanical engieering; required for second major in mechanical engineering,If ME is the 2nd major, ME470, ME471, and ME472 are typically substituted\\nby the capstone sequence of the 1st major.  If the 1st major is in a math or science program, the ME Capstone Design sequence will be required.\\r\\n45,   ME 471,,Capstone Design II,4 credits,,,required for first major in mechanical engieering; required for second major in mechanical engineering,\\r\\n46,   ME 472,,Capstone Design III,4 credits,,,required for first major in mechanical engieering; required for second major in mechanical engineering,\\r\\n47,   ME 480,,Machine Component Design,4 credits,,,required for first major in mechanical engieering; required for second major in mechanical engineering,\\r\\n48,Electives,28 credits,,,,,,\\r\\n49,,,Math (200+) or Science Elective,4 credits,,,required for first major in mechanical engineering; not required for second major in mechanical engineering,\\r\\n50,,,Technical Elective  (200-level +),4 credits,,,required for first major in mechanical engineering; not required for second major in mechanical engineering,\\r\\n51,,,Technical Elective  (200-level +),4 credits,,,required for first major in mechanical engineering; not required for second major in mechanical engineering,\\r\\n52,,,Technical Elective  (200-level +),4 credits,,,required for first major in mechanical engineering; not required for second major in mechanical engineering,\\r\\n53,,,Technical Elective  (200-level +),4 credits,,,required for first major in mechanical engineering; not required for second major in mechanical engineering,\\r\\n54,,,Free Elective,4 credits,,,required for first major in mechanical engineering; not required for second major in mechanical engineering,\\r\\n55,,,Free Elective,4 credits,,,required for first major in mechanical engineering; not required for second major in mechanical engineering,\\r\\n56,,194 credits, - ME Total Credit Hours Required -,194 credits,,,,\\r\\n', metadata={'source': '/home/jiaoq/rag_proj/data/dataset_courseCtlgProcessed.txt', 'seq_num': 20, 'src': 'MECHANICAL_ENGINEERING.csv'}), -5.459458]\n",
      "\n"
     ]
    }
   ],
   "source": [
    "from data.query_processing import expand_course_code_in_query \n",
    "import pickle\n",
    "with open('./data/course_code_to_name_dict.pkl', 'rb') as f:\n",
    "  loaded_dict = pickle.load(f)\n",
    "query = 'What are the required courses if I major in civil engineering?'\n",
    "q = expand_course_code_in_query(query, loaded_dict)\n",
    "res = my_rag.dense_retrieval(q, 'bge_embedding_dataset', top_k=3, use_mmr=True)\n",
    "res1 = my_rag.bm25_retrieval(q, 'bm25_retriever_dataset', if_lemmatize=True)\n",
    "hybrid_res = res + res1\n",
    "hybrid_res = my_rag.remove_duplicate_doc(hybrid_res)\n",
    "rerank_res = my_rag.rerank(q, hybrid_res)\n",
    "for i, r in enumerate(rerank_res):\n",
    "    if (i <= 3):\n",
    "        print(r)\n",
    "        print()"
   ]
  },
  {
   "cell_type": "markdown",
   "id": "39624898-83ad-4ec3-a0ff-d24619d3f99c",
   "metadata": {},
   "source": [
    "## Evaluation Setup"
   ]
  },
  {
   "cell_type": "markdown",
   "id": "1ed4325b-256b-4456-b20a-65e49b1ecff0",
   "metadata": {},
   "source": [
    "The code will throw an error saying that \"embedding dimension 384 does not match collection dimensionality 768\" if you try to build two dense vector indices with different embeddings. My guess is that it has something to do with cuda setup"
   ]
  },
  {
   "cell_type": "code",
   "execution_count": 1,
   "id": "f068a246",
   "metadata": {},
   "outputs": [
    {
     "name": "stderr",
     "output_type": "stream",
     "text": [
      "/home/jiaoq/.conda/envs/hf/lib/python3.12/site-packages/tqdm/auto.py:21: TqdmWarning: IProgress not found. Please update jupyter and ipywidgets. See https://ipywidgets.readthedocs.io/en/stable/user_install.html\n",
      "  from .autonotebook import tqdm as notebook_tqdm\n"
     ]
    }
   ],
   "source": [
    "from jiao_rag import RAG\n",
    "my_rag = RAG(cuda_device='cuda:5')"
   ]
  },
  {
   "cell_type": "code",
   "execution_count": 2,
   "id": "3e580fe0-21c6-48ce-a7ca-644d0a0d5885",
   "metadata": {},
   "outputs": [],
   "source": [
    "my_rag.load_data_from_file('./data/Eval-sem45.txt', 'sem45')\n",
    "my_rag.load_data_from_file('./data/Eval-sem55.txt', 'sem55')\n",
    "my_rag.load_data_from_file('./data/Eval-sem65.txt', 'sem65')\n",
    "my_rag.load_data_from_file('./data/Eval-sem75.txt', 'sem75')\n",
    "my_rag.load_data_from_file('./data/Eval-sem85.txt', 'sem85')\n",
    "my_rag.load_data_from_file('./data/Eval-sem95.txt', 'sem95')"
   ]
  },
  {
   "cell_type": "code",
   "execution_count": 3,
   "id": "b0db8057",
   "metadata": {},
   "outputs": [],
   "source": [
    "#BGE embedding\n",
    "model_name = \"BAAI/bge-base-en-v1.5\"\n",
    "model_kwargs = {\"device\": 'cuda:5'}\n",
    "encode_kwargs = {\"normalize_embeddings\": True}\n",
    "from langchain_community.embeddings import HuggingFaceBgeEmbeddings\n",
    "bge_emb = HuggingFaceBgeEmbeddings(\n",
    "    model_name=model_name, model_kwargs=model_kwargs, encode_kwargs=encode_kwargs\n",
    ")\n",
    "my_rag.create_dense_vector_index(bge_emb, 'bge_embedding_sem45', 'sem45')\n",
    "my_rag.create_dense_vector_index(bge_emb, 'bge_embedding_sem55', 'sem55')\n",
    "my_rag.create_dense_vector_index(bge_emb, 'bge_embedding_sem65', 'sem65')\n",
    "my_rag.create_dense_vector_index(bge_emb, 'bge_embedding_sem75', 'sem75')\n",
    "my_rag.create_dense_vector_index(bge_emb, 'bge_embedding_sem85', 'sem85')\n",
    "my_rag.create_dense_vector_index(bge_emb, 'bge_embedding_sem95', 'sem95')\n",
    "hybrid_res = res + res1\n",
    "hybrid_res = my_rag.remove_duplicate_doc(hybrid_res)\n",
    "rerank_res = my_rag.rerank(q, hybrid_res)\n",
    "print(rereank_res)"
   ]
  },
  {
   "cell_type": "code",
   "execution_count": 4,
   "id": "1b89af3a-abfd-432e-92d2-43eeb560d1da",
   "metadata": {},
   "outputs": [],
   "source": [
    "# from langchain_community.embeddings import GPT4AllEmbeddings\n",
    "# my_rag.create_dense_vector_index(GPT4AllEmbeddings(), 'gpt_embedding', 'full_data')"
   ]
  },
  {
   "cell_type": "code",
   "execution_count": 5,
   "id": "3f42a882-85c1-4a3d-8bb1-e59ad165222e",
   "metadata": {},
   "outputs": [],
   "source": [
    "#Init bm25 retriever with lemmatized texts\n",
    "my_rag.load_data_from_file('./data/Eval-sem45.txt', 'sem45_lem', content_key='lemma')\n",
    "my_rag.load_data_from_file('./data/Eval-sem55.txt', 'sem55_lem', content_key='lemma')\n",
    "my_rag.load_data_from_file('./data/Eval-sem65.txt', 'sem65_lem', content_key='lemma')\n",
    "my_rag.load_data_from_file('./data/Eval-sem75.txt', 'sem75_lem', content_key='lemma')\n",
    "my_rag.load_data_from_file('./data/Eval-sem85.txt', 'sem85_lem', content_key='lemma')\n",
    "my_rag.load_data_from_file('./data/Eval-sem95.txt', 'sem95_lem', content_key='lemma')\n",
    "my_rag.create_bm25_index('bm25_retriever_sem45', 'sem45_lem')\n",
    "my_rag.create_bm25_index('bm25_retriever_sem55', 'sem55_lem')\n",
    "my_rag.create_bm25_index('bm25_retriever_sem65', 'sem65_lem')\n",
    "my_rag.create_bm25_index('bm25_retriever_sem75', 'sem75_lem')\n",
    "my_rag.create_bm25_index('bm25_retriever_sem85', 'sem85_lem')\n",
    "my_rag.create_bm25_index('bm25_retriever_sem95', 'sem95_lem')"
   ]
  },
  {
   "cell_type": "code",
   "execution_count": 26,
   "id": "47ac47fe-6a1d-4156-9931-026c6fa1b79a",
   "metadata": {},
   "outputs": [
    {
     "name": "stdout",
     "output_type": "stream",
     "text": [
      "476\n",
      "544\n",
      "114\n"
     ]
    }
   ],
   "source": [
    "# Expanding course code in the query\n",
    "from query_processing import expand_course_code_in_query \n",
    "import pickle\n",
    "with open('./course_code_to_name_dict.pkl', 'rb') as f:\n",
    "  loaded_dict = pickle.load(f)\n",
    "query = 'What courses do I want to double major in Math and Biochemistry'\n",
    "q = expand_course_code_in_query(query, loaded_dict)\n",
    "res = my_rag.dense_retrieval(q, 'bge_embedding_sem75', top_k=3, use_mmr=True)\n",
    "res1 = my_rag.bm25_retrieval(q, 'bm25_retriever_sem75', if_lemmatize=True)\n",
    "res2 = [0, 0, 0]\n",
    "# replace lemmatized documents with original ones\n",
    "for i, r in enumerate(res1):\n",
    "    print(r.metadata['seq_num'])\n",
    "    res2[i] = my_rag.get_document('sem75', r.metadata['seq_num'])"
   ]
  },
  {
   "cell_type": "code",
   "execution_count": 30,
   "id": "da1a097f-40d9-4a29-850d-31e1a49906c3",
   "metadata": {},
   "outputs": [
    {
     "data": {
      "text/plain": [
       "Document(page_content='CSSE be require physic major be plan double major CSSE, CPE, EE, MA, ME **MA (F S) be substitute MA (W) †Free, Math technical elective be only suggestion change subject offering.', metadata={'source': '/home/jiaoq/rag_proj/data/Eval-sem75.txt', 'seq_num': 544, 'src': 'Physics.txt'})"
      ]
     },
     "execution_count": 30,
     "metadata": {},
     "output_type": "execute_result"
    }
   ],
   "source": [
    "res1[1]"
   ]
  },
  {
   "cell_type": "code",
   "execution_count": 7,
   "id": "5f8952a8-ea11-4240-a65a-25263bae4ea7",
   "metadata": {},
   "outputs": [
    {
     "name": "stdout",
     "output_type": "stream",
     "text": [
      "CSSE 220 - Object-Oriented Software Development, CSS E220, CSSE 220 - Object-Oriented Software Development\n"
     ]
    }
   ],
   "source": [
    "# This shows how the replacement works\n",
    "tmp = \"CSSE220, CSS E220, CSSE 220\"\n",
    "tmp = expand_course_code_in_query(tmp, loaded_dict)\n",
    "print(tmp)"
   ]
  },
  {
   "cell_type": "code",
   "execution_count": null,
   "id": "8fd8eb84-8b3f-4528-a7ec-4409504bf1ec",
   "metadata": {},
   "outputs": [],
   "source": [
    "for tmp in res:\n",
    "    print(tmp, '\\n')\n",
    "for tmp in res1:\n",
    "    print(tmp, '\\n')\n"
   ]
  },
  {
   "cell_type": "code",
   "execution_count": 9,
   "id": "a8c9d2de-c657-4a05-8a74-85a86b903635",
   "metadata": {},
   "outputs": [
    {
     "name": "stdout",
     "output_type": "stream",
     "text": [
      "5\n"
     ]
    }
   ],
   "source": [
    "hybrid_res = res + res1\n",
    "hybrid_res = my_rag.remove_duplicate_doc(hybrid_res)\n",
    "print(len(hybrid_res))\n",
    "rerank_res = my_rag.rerank(q, hybrid_res)"
   ]
  },
  {
   "cell_type": "code",
   "execution_count": 10,
   "id": "e30ccc8b-cf40-40ed-97ce-ff278881f8ad",
   "metadata": {},
   "outputs": [
    {
     "data": {
      "text/plain": [
       "5"
      ]
     },
     "execution_count": 10,
     "metadata": {},
     "output_type": "execute_result"
    }
   ],
   "source": [
    "len(hybrid_res)"
   ]
  },
  {
   "cell_type": "code",
   "execution_count": null,
   "id": "b2ccd835-7a50-4718-abf1-691d099b8321",
   "metadata": {},
   "outputs": [],
   "source": [
    "rerank_res"
   ]
  },
  {
   "cell_type": "code",
   "execution_count": 10,
   "id": "acd06a44-9202-4dd0-816b-1300a0ddb557",
   "metadata": {},
   "outputs": [],
   "source": [
    "my_rag.load_data_from_file('./data/new_complete_dataset_credit_replaced.txt', 'full_data_lemma', content_key='lemma')\n",
    "my_rag.create_bm25_index('bm25_retriever', 'full_data_lemma')\n",
    "res1 = my_rag.bm25_retrieval('I am the bone of my sword', 'bm25_retriever', if_lemmatize=True)"
   ]
  },
  {
   "cell_type": "code",
   "execution_count": 6,
   "id": "396bafea-3216-438b-a445-4faa2d271290",
   "metadata": {},
   "outputs": [
    {
     "data": {
      "text/plain": [
       "[Document(page_content='BE Research Methods Biomechanics Credit Hours:4 Term Available: Winter Graduate Studies Eligible: Yes Prerequisites: BE consent instructor Corequisites: None Focuses wide range research method use field biomechanics. Current literature be review analyze advantage disadvantage various research methodologies. Topics vary base student interest background, include topic such motion/force analysis, soft tissue bone mechanics, joint biomechanics, analysis joint replacements, fracture fixation. Laboratory activity reinforce lecture topic student have opportunity investigate biomechanics research topic area interest.', metadata={'source': '/home/jiaoq/rag_proj/data/new_complete_dataset_credit_replaced.txt', 'seq_num': 608, 'src': 'https://www.rose-hulman.edu/academics/course-catalog/current/programs/Biomedical%20Engineering/be-550.html'}),\n",
       " Document(page_content='Orthopedic Mobility Impairment Guidance Information Orthopedic impairment mean severe orthopedic impairment adversely affect child’s educational performance. term include impairment cause congenital anomaly, impairment cause disease (e.g., poliomyelitis, bone tuberculosis), impairment other cause (e.g., cerebral palsy, amputations, fracture burn cause contractures) Individuals Disabilities Education Act (IDEA) https://sites.ed.gov/idea/regs/ b/a/300.8/c/8 • Speech not be impact due condition • Verbal r esponse be delay due process variance • Ability communicate handwriting be impact • May have difficulty handwriting note take • May have auditory processing delay • May have difficulty transfer write board paper • May physically need more time space move transition special equipment • Small motor task be impact such open combination lock • May need accessible pathway • May take long complete write work • May miss verbal direction due auditory processing delay • take few day set up -class note taker scribe student orthopedic impairment', metadata={'source': '/home/jiaoq/rag_proj/data/new_complete_dataset_credit_replaced.txt', 'seq_num': 488, 'src': 'Orthopedic%20or%20Mobility%20Impairment%20Guidance%20and%20I0.txt'}),\n",
       " Document(page_content='Heritage Values II Credit Hours:1 Term Available: Winter Graduate Studies Eligible: No Prerequisites: consent instructor Corequisites: None be survey course design introduce student Department Air Force (DAF) provide overview basic characteristics, missions, communication organization Air Space Forces', metadata={'source': '/home/jiaoq/rag_proj/data/new_complete_dataset_credit_replaced.txt', 'seq_num': 545, 'src': 'https://www.rose-hulman.edu/academics/course-catalog/current/programs/ROTC-Air%20Force/as-102.html'})]"
      ]
     },
     "execution_count": 6,
     "metadata": {},
     "output_type": "execute_result"
    }
   ],
   "source": []
  },
  {
   "cell_type": "markdown",
   "id": "f6da23f3-7702-497e-b7d4-e8624f798e00",
   "metadata": {},
   "source": [
    "<h1>Evaluation</h1>"
   ]
  },
  {
   "cell_type": "code",
   "execution_count": 6,
   "id": "5abcefc6-1008-4a38-89e1-7d525ef152d9",
   "metadata": {},
   "outputs": [],
   "source": [
    "def metadata_func(record: dict, metadata: dict):\n",
    "        metadata['src'] = record.get('source')\n",
    "        return metadata"
   ]
  },
  {
   "cell_type": "code",
   "execution_count": 19,
   "id": "2a78c1f1-897d-4b8e-adc2-2e69585cab15",
   "metadata": {},
   "outputs": [],
   "source": [
    "from langchain_community.document_loaders import JSONLoader\n",
    "import json\n",
    "data_loader = JSONLoader(\n",
    "    file_path='./data/Eval-sem55.txt',\n",
    "    jq_schema='.',\n",
    "    content_key='text',\n",
    "    text_content=False,\n",
    "    json_lines=True,\n",
    "    metadata_func=metadata_func\n",
    ")"
   ]
  },
  {
   "cell_type": "code",
   "execution_count": 20,
   "id": "e2e0269a-c9c6-49ad-bda3-59530f677ee7",
   "metadata": {},
   "outputs": [
    {
     "data": {
      "text/plain": [
       "1390"
      ]
     },
     "execution_count": 20,
     "metadata": {},
     "output_type": "execute_result"
    }
   ],
   "source": [
    "data = data_loader.load()\n",
    "len(data)"
   ]
  },
  {
   "cell_type": "code",
   "execution_count": 18,
   "id": "136ecac2-bc18-4028-aafc-95e3726872c9",
   "metadata": {},
   "outputs": [
    {
     "data": {
      "text/plain": [
       "1390"
      ]
     },
     "execution_count": 18,
     "metadata": {},
     "output_type": "execute_result"
    }
   ],
   "source": [
    "data_loader2 = JSONLoader(\n",
    "    file_path='./data/Eval-sem55.txt',\n",
    "    jq_schema='.',\n",
    "    content_key='text',\n",
    "    text_content=False,\n",
    "    json_lines=True,\n",
    "    metadata_func=metadata_func\n",
    ")\n",
    "data2 = data_loader2.load()\n",
    "len(data2)"
   ]
  },
  {
   "cell_type": "code",
   "execution_count": 9,
   "id": "3899626d-95fa-4870-a4c6-7eeb12fa2993",
   "metadata": {},
   "outputs": [],
   "source": [
    "from langchain.chains import LLMChain\n",
    "from langchain_core.prompts import PromptTemplate\n",
    "from langchain_openai import OpenAI"
   ]
  },
  {
   "cell_type": "code",
   "execution_count": 10,
   "id": "b7525bb1-57b8-425e-b2cd-48ef3d42e232",
   "metadata": {},
   "outputs": [],
   "source": [
    "template = \"\"\"Ask a question based on the following content: {corpus}\n",
    "\"\"\"\n",
    "\n",
    "prompt = PromptTemplate.from_template(template)\n",
    "llm = OpenAI(openai_api_key=\"TurningBackTime\")\n",
    "llm_chain = LLMChain(prompt=prompt, llm=llm)"
   ]
  },
  {
   "cell_type": "code",
   "execution_count": 10,
   "id": "be583b1e-c630-4463-80eb-9ea84e429301",
   "metadata": {},
   "outputs": [],
   "source": [
    "q = \"c\""
   ]
  },
  {
   "cell_type": "code",
   "execution_count": 21,
   "id": "acba11a8-55aa-4b2c-8e65-c6014937577e",
   "metadata": {},
   "outputs": [
    {
     "name": "stdout",
     "output_type": "stream",
     "text": [
      "50 done\n",
      "100 done\n",
      "150 done\n",
      "200 done\n",
      "250 done\n",
      "300 done\n",
      "350 done\n",
      "400 done\n",
      "450 done\n",
      "500 done\n",
      "550 done\n",
      "600 done\n",
      "650 done\n",
      "700 done\n",
      "750 done\n",
      "800 done\n",
      "850 done\n",
      "900 done\n",
      "950 done\n",
      "1000 done\n",
      "1050 done\n",
      "1100 done\n",
      "1150 done\n",
      "1200 done\n",
      "1250 done\n",
      "1300 done\n",
      "1350 done\n"
     ]
    }
   ],
   "source": [
    "top_3_hits = 0\n",
    "top_1_hits = 0\n",
    "with open('./eval/rag_eval_res_sem55_bge_bm25_run2.txt', 'w') as f:\n",
    "    for i in range(0, len(data)):\n",
    "        if (i != 0 and i % 50 == 0):\n",
    "            print(f'{i} done')\n",
    "        curr_seq_num = i + 1\n",
    "        question = llm_chain.run(data[i].page_content)\n",
    "        bge_res = my_rag.dense_retrieval(question, 'bge_embedding_sem55')\n",
    "        bm25_res = my_rag.bm25_retrieval(question, 'bm25_retriever_sem55', if_lemmatize=True)\n",
    "        bm25_res_new = []\n",
    "        # replace lemmatized documents with original ones\n",
    "        for m, n in enumerate(bm25_res):\n",
    "            bm25_res_new.append(my_rag.get_document('sem55', n.metadata['seq_num']))\n",
    "        hybrid_res = bge_res + bm25_res_new\n",
    "        hybrid_res = my_rag.remove_duplicate_doc(hybrid_res)\n",
    "        rerank_res = my_rag.rerank(question, hybrid_res)\n",
    "        top_3_if_hits = False\n",
    "        top_1_if_hits = False\n",
    "        for j in range(0, 3):\n",
    "            if j == 0 and rerank_res[j][0].metadata['seq_num'] == curr_seq_num:\n",
    "                top_1_hits += 1\n",
    "                top_3_hits += 1\n",
    "                top_3_if_hits = True\n",
    "                top_1_if_hits = True\n",
    "            elif rerank_res[j][0].metadata['seq_num'] == curr_seq_num:\n",
    "                top_3_hits += 1\n",
    "                top_3_if_hits = True\n",
    "        f.write(f'Q: {question}\\n {data[i].page_content}\\nTop 1 hits: {top_1_if_hits}\\nTop 3 hits: {top_3_if_hits}\\n\\n')"
   ]
  },
  {
   "cell_type": "code",
   "execution_count": 54,
   "id": "7a185adc-7665-4425-b950-653911cc7cfe",
   "metadata": {},
   "outputs": [
    {
     "name": "stdout",
     "output_type": "stream",
     "text": [
      "top 3 hit rate 0.8388157894736842, top 1 hit rate 0.34539473684210525\n"
     ]
    }
   ],
   "source": [
    "#95\n",
    "top_3_hit_rate = top_3_hits / len(data)\n",
    "top_1_hit_rate = top_1_hits / len(data)\n",
    "print(f'top 3 hit rate {top_3_hit_rate}, top 1 hit rate {top_1_hit_rate}')"
   ]
  },
  {
   "cell_type": "code",
   "execution_count": 59,
   "id": "f0d35768-caf4-43c2-abaa-806ffbe9ecf7",
   "metadata": {},
   "outputs": [
    {
     "name": "stdout",
     "output_type": "stream",
     "text": [
      "top 3 hit rate 0.8202054794520548, top 1 hit rate 0.3082191780821918\n"
     ]
    }
   ],
   "source": [
    "#85\n",
    "top_3_hit_rate = top_3_hits / len(data)\n",
    "top_1_hit_rate = top_1_hits / len(data)\n",
    "print(f'top 3 hit rate {top_3_hit_rate}, top 1 hit rate {top_1_hit_rate}')"
   ]
  },
  {
   "cell_type": "code",
   "execution_count": 64,
   "id": "f156f867-281d-496d-91a3-d20d92285dcb",
   "metadata": {},
   "outputs": [
    {
     "name": "stdout",
     "output_type": "stream",
     "text": [
      "top 3 hit rate 0.8801410105757932, top 1 hit rate 0.6733254994124559\n"
     ]
    }
   ],
   "source": [
    "#75\n",
    "top_3_hit_rate = top_3_hits / len(data)\n",
    "top_1_hit_rate = top_1_hits / len(data)\n",
    "print(f'top 3 hit rate {top_3_hit_rate}, top 1 hit rate {top_1_hit_rate}')"
   ]
  },
  {
   "cell_type": "code",
   "execution_count": 72,
   "id": "aba21bcf-13fc-4c09-a601-657bf933d5dc",
   "metadata": {},
   "outputs": [
    {
     "name": "stdout",
     "output_type": "stream",
     "text": [
      "top 3 hit rate 0.7909654561558902, top 1 hit rate 0.4065544729849424\n"
     ]
    }
   ],
   "source": [
    "#65\n",
    "top_3_hit_rate = top_3_hits / len(data)\n",
    "top_1_hit_rate = top_1_hits / len(data)\n",
    "print(f'top 3 hit rate {top_3_hit_rate}, top 1 hit rate {top_1_hit_rate}')"
   ]
  },
  {
   "cell_type": "code",
   "execution_count": 22,
   "id": "eea617a6-dcb9-4365-a79f-9fd953095d94",
   "metadata": {},
   "outputs": [
    {
     "name": "stdout",
     "output_type": "stream",
     "text": [
      "top 3 hit rate 0.7589928057553957, top 1 hit rate 0.24244604316546764\n"
     ]
    }
   ],
   "source": [
    "#55\n",
    "top_3_hit_rate = top_3_hits / len(data)\n",
    "top_1_hit_rate = top_1_hits / len(data)\n",
    "print(f'top 3 hit rate {top_3_hit_rate}, top 1 hit rate {top_1_hit_rate}')"
   ]
  },
  {
   "cell_type": "code",
   "execution_count": 14,
   "id": "dfdc0b4a-d746-4d54-8b22-a1e96b307bd8",
   "metadata": {},
   "outputs": [
    {
     "name": "stdout",
     "output_type": "stream",
     "text": [
      "top 3 hit rate 0.8402903811252269, top 1 hit rate 0.5523290986085905\n"
     ]
    }
   ],
   "source": [
    "#45\n",
    "top_3_hit_rate = top_3_hits / len(data)\n",
    "top_1_hit_rate = top_1_hits / len(data)\n",
    "print(f'top 3 hit rate {top_3_hit_rate}, top 1 hit rate {top_1_hit_rate}')"
   ]
  },
  {
   "cell_type": "code",
   "execution_count": 18,
   "id": "eb57178c-75b2-4e7f-9aa7-6a635d660b0a",
   "metadata": {},
   "outputs": [
    {
     "name": "stdout",
     "output_type": "stream",
     "text": [
      "0.18260669708251953\n"
     ]
    }
   ],
   "source": [
    "q = \"I am the bone of my sword\"\n",
    "import time\n",
    "t0 = time.time()\n",
    "rerank_res = my_rag.rerank(q, my_rag.bge_query(q, 'full_data'))\n",
    "t1 = time.time()\n",
    "print(t1-t0)"
   ]
  },
  {
   "cell_type": "code",
   "execution_count": null,
   "id": "420ad235-39bc-4fd8-a587-0c27d586633d",
   "metadata": {},
   "outputs": [],
   "source": [
    "model_name = \"BAAI/bge-base-en-v1.5\"\n",
    "model_kwargs = {\"device\": cuda_device}\n",
    "encode_kwargs = {\"normalize_embeddings\": True}\n",
    "self.bge_emb = HuggingFaceBgeEmbeddings(\n",
    "    model_name=model_name, model_kwargs=model_kwargs, encode_kwargs=encode_kwargs\n",
    ")"
   ]
  }
 ],
 "metadata": {
  "kernelspec": {
   "display_name": "hf",
   "language": "python",
   "name": "hf"
  },
  "language_info": {
   "codemirror_mode": {
    "name": "ipython",
    "version": 3
   },
   "file_extension": ".py",
   "mimetype": "text/x-python",
   "name": "python",
   "nbconvert_exporter": "python",
   "pygments_lexer": "ipython3",
   "version": "3.12.2"
  }
 },
 "nbformat": 4,
 "nbformat_minor": 5
}
