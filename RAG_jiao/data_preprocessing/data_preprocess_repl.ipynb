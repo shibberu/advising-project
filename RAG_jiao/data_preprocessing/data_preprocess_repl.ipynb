{
 "cells": [
  {
   "cell_type": "markdown",
   "id": "ece8d361-af7c-43e3-94b1-dad4e0def4c7",
   "metadata": {},
   "source": [
    "## Replacing Credits and Quarter Abbr. in Course Catalog"
   ]
  },
  {
   "cell_type": "code",
   "execution_count": 1,
   "id": "8f52b8c6-2acc-4513-8eee-05f00bc72ea2",
   "metadata": {},
   "outputs": [],
   "source": [
    "def replace(doc) :\n",
    "  '''\n",
    "  append full names to course codes in q \n",
    "  '''\n",
    "    \n",
    "  reg_credit = '(?<=Credit Hours:).*?(?=Term Available)'\n",
    "  reg_term = '(?<=Term Available:).*?(?=Graduate Studies )'\n",
    "\n",
    "  # replace course code by its value in dict\n",
    "  def repl_cb_credit(match):\n",
    "    # match = match.string\n",
    "    print(match)\n",
    "    match = match.group(0)\n",
    "    return match.split('L-')[-1].split('C')[0] + ' '\n",
    "  def repl_cb_term(match):\n",
    "    match = match.group(0)\n",
    "    spring_reg = '(S *|S, *)'\n",
    "    winter_reg = '(W *|W, *)'\n",
    "    fall_reg = '(F *|F, *)'\n",
    "    none_reg = '(-)'\n",
    "    match = re.sub(spring_reg, 'Spring ', match)\n",
    "    match = re.sub(winter_reg, 'Winter ', match)\n",
    "    match = re.sub(fall_reg, 'Fall ', match)\n",
    "    #match = re.sub(none_reg, 'Not offered', match)\n",
    "    return match\n",
    "    \n",
    "  if (re.search(reg_credit, doc) != None):\n",
    "      print(re.search(reg_credit, doc))\n",
    "      print(re.sub(reg_credit, repl_cb_credit, doc))\n",
    "  if (re.search(reg_term, doc) != None):\n",
    "      print('second match')\n",
    "      print(re.search(reg_term, doc))\n",
    "      print(re.sub(reg_term, repl_cb_term, doc))\n",
    "  match = re.sub(reg_credit, repl_cb_credit, doc)\n",
    "  match = re.sub(reg_term, repl_cb_term, match)\n",
    "  return match"
   ]
  },
  {
   "cell_type": "code",
   "execution_count": null,
   "id": "fb3a34d9-05d5-4c4b-8089-15cc3e597dd5",
   "metadata": {},
   "outputs": [],
   "source": [
    "import re\n",
    "with open('./new_complete_dataset_2.txt', 'rb') as f:\n",
    "    with open('./new_complete_dataset_2_credit_replaced.txt', 'w') as f1:\n",
    "        while True:\n",
    "            doc = f.readline()\n",
    "            if (len(doc) == 0):\n",
    "                break\n",
    "            doc = replace(doc.decode('utf-8'))\n",
    "            f1.write(doc)\n",
    "    "
   ]
  },
  {
   "cell_type": "markdown",
   "id": "450be70d-bc3a-4717-8fa6-1d24236f6a46",
   "metadata": {},
   "source": [
    "## Injecting Major / Program Info"
   ]
  },
  {
   "cell_type": "markdown",
   "id": "1dd34666-e148-4285-b84b-9b623aa63abf",
   "metadata": {},
   "source": [
    "A List of all files of program information\n",
    "Graduate: \n",
    "biomedical-engineering.txt\n",
    "chemical-engineering.txt\n",
    "chemistry.txt\n",
    "civil-and-environmental-eng.txt\n",
    "electrical-and-computer-eng.txt\n",
    "engineering-management.txt\n",
    "mechanical-engineering.txt\n",
    "optical-engineering.txt\n",
    " \n",
    "Undergraduate: \n",
    "NanoEngineering.txt\n",
    "General%20Education.txt\n",
    "Biomedical%20Engineering.txt\n",
    "Mathematics.txt\n",
    "Pre-Professional.txt\n",
    "Computer%20Science.txt\n",
    "Chemistry.txt\n",
    "Chemical%20Engineering.txt\n",
    "Computer%20Engineering.txt\n",
    "International%20Computer%20Science.txt\n",
    "Mechanical%20Engineering.txt\n",
    "ROTC-Army.txt\n",
    "Engineering%20Design.txt\n",
    "Data-Science-SMO.txt\n",
    "Biochemistry.txt\n",
    "Biomathematics.txt\n",
    "Software%20Engineering.txt\n",
    "ROTC-Air%20Force.txt\n",
    "Humanities,%20Social%20Sciences,%20and%20the%20Arts.txt\n",
    "Electrical%20Engineering.txt\n",
    "Physics.txt\n",
    "Optical%20Engineering.txt\n",
    "Biology.txt\n",
    "Civil%20Engineering.txt"
   ]
  },
  {
   "cell_type": "code",
   "execution_count": 3,
   "id": "16d65bea-5d95-4a22-9359-592d25af9629",
   "metadata": {},
   "outputs": [],
   "source": [
    "prog_dict = {}\n",
    "\n",
    "# if the filename is in the src, inject the sentence into the chunk\n",
    "prog_dict['biomedical-engineering.txt'] = \"This is about biomedical engineering graduate program.\"\n",
    "prog_dict['chemical-engineering.txt'] = \"This is about chemical engineering graduate program.\"\n",
    "prog_dict['chemistry.txt'] = \"This is about chemistry graduate program.\"\n",
    "prog_dict['civil-and-environmental-eng.txt'] = \"This is about civil and environmental engineering graduate program.\"\n",
    "prog_dict['electrical-and-computer-eng.txt'] = \"This is about electrical and computer engineering graduate program.\"\n",
    "prog_dict['engineering-management.txt'] = \"This is about engineering management graduate program.\"\n",
    "prog_dict['mechanical-engineering.txt'] = \"This is about mechanical engineering graduate program.\"\n",
    "prog_dict['optical-engineering.txt'] = \"This is about optical engineering graduate program.\"\n",
    "\n",
    "prog_dict['NanoEngineering.txt'] = \"This is about NanoEngineering undergraduate program.\"\n",
    "prog_dict['General%20Education.txt'] = \"This is about general education undergraduate program.\"\n",
    "prog_dict['Biomedical%20Engineering.txt'] = \"This is about biomedical engineering undergraduate program.\"\n",
    "prog_dict['Mathematics.txt'] = \"This is about Mathematics undergraduate program.\"\n",
    "prog_dict['Pre-Professional.txt'] = \"This is about pre-professional undergraduate program.\"\n",
    "prog_dict['Computer%20Science.txt'] = \"This is about Computer Science undergraduate program.\"\n",
    "prog_dict['Chemistry.txt'] = \"This is about chemistry undergraduate program.\"\n",
    "prog_dict['Chemical%20Engineering.txt'] = \"This is about chemical engineering undergraduate program.\"\n",
    "prog_dict['Computer%20Engineering.txt'] = \"This is about computer engineering undergraduate program.\"\n",
    "prog_dict['International%20Computer%20Science.txt'] = \"This is about international computer science undergraduate program.\"\n",
    "prog_dict['Mechanical%20Engineering.txt'] = \"This is about mechanical engineering undergraduate program.\"\n",
    "prog_dict['ROTC-Army.txt'] = \"This is about ROTC-Army ROTC Army undergraduate program.\" # the repetition is intentional\n",
    "prog_dict['Engineering%20Design.txt'] = \"This is about engineering design undergraduate program.\"\n",
    "prog_dict['Data-Science-SMO.txt'] = \"This is about data science undergraduate program. Data science is available as a second major only\"\n",
    "prog_dict['Biochemistry.txt'] = \"This is about biochemistry undergraduate program.\"\n",
    "prog_dict['Biomathematics.txt'] = \"This is about biomathematics undergraduate program.\"\n",
    "prog_dict['Software%20Engineering.txt'] = \"This is about software engineering undergraduate program.\"\n",
    "prog_dict['Electrical%20Engineering.txt'] = \"This is about electrical engineering undergraduate program.\" #repetition is intentional\n",
    "prog_dict['ROTC-Air%20Force.txt'] = \"This is about ROTC-Air Force ROTC Air Force undergraduate program.\" \n",
    "prog_dict['Physics.txt'] = \"This is about physics undergraduate program.\" \n",
    "prog_dict['Optical%20Engineering.txt'] = \"This is about optical engineering undergraduate program.\" \n",
    "prog_dict['Biology.txt'] = \"This is about biology undergraduate program.\" \n",
    "prog_dict['Civil%20Engineering.txt'] = \"This is about civil engineering undergraduate program.\" \n",
    "prog_dict['Humanities,%20Social%20Sciences,%20and%20the%20Arts.txt'] = \"This is about Humanities social sciences arts undergraduate program.\" \n",
    "\n",
    "\n",
    "\n",
    "\n"
   ]
  },
  {
   "cell_type": "markdown",
   "id": "1efc99be-8ffe-4dde-92c6-e7bde0cbb7c3",
   "metadata": {},
   "source": [
    "## Expanding Abbr."
   ]
  },
  {
   "cell_type": "code",
   "execution_count": null,
   "id": "7777099e-ad42-4eb3-b55d-5a4d5eeb23f9",
   "metadata": {},
   "outputs": [],
   "source": [
    "#abbr. is the abbreviation for abbreviation!"
   ]
  },
  {
   "cell_type": "code",
   "execution_count": 16,
   "id": "2e889013-836c-4dad-97da-49b88df767a6",
   "metadata": {},
   "outputs": [],
   "source": [
    "def expand_subject_abbr(text):\n",
    "    import re\n",
    "    subject_abbr_dict = {}\n",
    "    subject_abbr_dict['CSSE'] = ' Computer Science and Software Engineering CSSE'\n",
    "    subject_abbr_dict['CS'] = ' Computer Science CS'\n",
    "    subject_abbr_dict['BE'] = ' Biomedical Engineering BE'\n",
    "    subject_abbr_dict['ME'] = ' Mechanical Engineering ME'\n",
    "    subject_abbr_dict['BMTH'] = ' Biomathematics BMTH'\n",
    "    subject_abbr_dict['CHEM'] = ' Chemistry CHEM'\n",
    "    subject_abbr_dict['BIO'] = ' Biology BIO'\n",
    "    subject_abbr_dict['CHE'] = ' Chemical Engineering CHE'\n",
    "    subject_abbr_dict['CE'] = ' Civil Engineering CE'\n",
    "    subject_abbr_dict['SE'] = ' Software Engineering SE'\n",
    "    subject_abbr_dict['ECE'] = ' Electrical Engineering ECE'\n",
    "    subject_abbr_dict['ENGD'] = ' Engineering Design ENGD'\n",
    "    subject_abbr_dict['EMGT'] = ' Engineering Management EMGT'\n",
    "    subject_abbr_dict['EM'] = ' Engineering Mechanics EM'\n",
    "    subject_abbr_dict['ES'] = ' Engineering Science ES'\n",
    "    subject_abbr_dict['ESL'] = ' English as second language EM'\n",
    "    subject_abbr_dict['MA'] = ' Mathematics EM'\n",
    "    subject_abbr_dict['Math'] = ' Mathematics Math'\n",
    "    subject_abbr_dict['ME'] = ' Mechanical Engineering ME'\n",
    "    subject_abbr_dict['EP'] = ' NanoEngineering nano engineering EP'\n",
    "    subject_abbr_dict['OE'] = ' Optical Engineering OE'\n",
    "    subject_abbr_dict['PH'] = ' Physics PH'\n",
    "    subject_abbr_dict['AI'] = ' Artifical Intelligence AI'\n",
    "\n",
    "    reg_exp = '\\\\sCSSE'\n",
    "    for k in subject_abbr_dict.keys():\n",
    "        if (k == 'CSSE'):\n",
    "            continue\n",
    "        reg_exp += f'|\\\\s{k}'\n",
    "    # Build a reg exp that detects abbr.\n",
    "    \n",
    "    def repl_cb(match):\n",
    "        # match = match.string\n",
    "        match = match.group(0)\n",
    "        match = match.strip()\n",
    "        print(match)\n",
    "        return subject_abbr_dict[match]\n",
    "\n",
    "    import re\n",
    "    print(reg_exp)\n",
    "    return re.sub(reg_exp, repl_cb, text)\n",
    "    "
   ]
  },
  {
   "cell_type": "code",
   "execution_count": 18,
   "id": "e87be4d2-2bbf-4380-b2ba-6e94ef74c01c",
   "metadata": {},
   "outputs": [
    {
     "name": "stdout",
     "output_type": "stream",
     "text": [
      "\\sCSSE|\\sCS|\\sBE|\\sME|\\sBMTH|\\sCHEM|\\sBIO|\\sCHE|\\sCE|\\sSE|\\sECE|\\sENGD|\\sEMGT|\\sEM|\\sES|\\sESL|\\sMA|\\sMath|\\sEP|\\sOE|\\sPH|\\sAI\n",
      "SE\n",
      "PH\n",
      "AI\n",
      "EP\n",
      "ME\n",
      "OE\n"
     ]
    },
    {
     "data": {
      "text/plain": [
       "'CSSE Software Engineering SE Physics PH Artifical Intelligence AIOE NanoEngineering nano engineering EP Mechanical Engineering ME Optical Engineering OE'"
      ]
     },
     "execution_count": 18,
     "metadata": {},
     "output_type": "execute_result"
    }
   ],
   "source": [
    "expand_subject_abbr('CSSE SE PH AIOE EP ME OE')"
   ]
  }
 ],
 "metadata": {
  "kernelspec": {
   "display_name": "Python 3 (ipykernel)",
   "language": "python",
   "name": "python3"
  },
  "language_info": {
   "codemirror_mode": {
    "name": "ipython",
    "version": 3
   },
   "file_extension": ".py",
   "mimetype": "text/x-python",
   "name": "python",
   "nbconvert_exporter": "python",
   "pygments_lexer": "ipython3",
   "version": "3.11.8"
  }
 },
 "nbformat": 4,
 "nbformat_minor": 5
}
